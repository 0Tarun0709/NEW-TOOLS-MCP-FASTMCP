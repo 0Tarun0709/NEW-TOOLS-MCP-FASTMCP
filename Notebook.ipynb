{
 "cells": [
  {
   "cell_type": "code",
   "execution_count": 14,
   "id": "7c8f4d08",
   "metadata": {},
   "outputs": [
    {
     "data": {
      "text/plain": [
       "False"
      ]
     },
     "execution_count": 14,
     "metadata": {},
     "output_type": "execute_result"
    }
   ],
   "source": [
    "num='112'\n",
    "i=0\n",
    "window=num[i]+num[i+1]+num[i+2]\n",
    "num[i]==num[i+1]==num[i+2]"
   ]
  },
  {
   "cell_type": "code",
   "execution_count": 12,
   "id": "e713359d",
   "metadata": {},
   "outputs": [
    {
     "data": {
      "text/plain": [
       "True"
      ]
     },
     "execution_count": 12,
     "metadata": {},
     "output_type": "execute_result"
    }
   ],
   "source": [
    "(n & (n - 1)) == 0 and (n - 1) % 3 == 0"
   ]
  },
  {
   "cell_type": "code",
   "execution_count": 4,
   "id": "cf7f4de3",
   "metadata": {},
   "outputs": [
    {
     "data": {
      "text/plain": [
       "True"
      ]
     },
     "execution_count": 4,
     "metadata": {},
     "output_type": "execute_result"
    }
   ],
   "source": [
    "(0/4)%4==0"
   ]
  },
  {
   "cell_type": "code",
   "execution_count": null,
   "id": "3fb1902c",
   "metadata": {},
   "outputs": [],
   "source": [
    "def largestGoodInteger(num: str) -> str:\n",
    "    result = ''\n",
    "    for i in range(len(num) - 2):\n",
    "        window = num[i:i+3]\n",
    "        if window[0] == window[1] == window[2]:\n",
    "            if result == '' or int(window) > int(result):\n",
    "                result = window\n",
    "    return result\n",
    "        "
   ]
  },
  {
   "cell_type": "code",
   "execution_count": 23,
   "id": "e7c93f48",
   "metadata": {},
   "outputs": [
    {
     "data": {
      "text/plain": [
       "'999'"
      ]
     },
     "execution_count": 23,
     "metadata": {},
     "output_type": "execute_result"
    }
   ],
   "source": [
    "class Solution:\n",
    "    def isPowerOfThree(self, n: int) -> bool:\n",
    "        if n <= 0:\n",
    "            return False\n",
    "        while n % 3 == 0:\n",
    "            n //= 3\n",
    "        return n == 1\n",
    "                "
   ]
  },
  {
   "cell_type": "code",
   "execution_count": 27,
   "id": "f8eb633e",
   "metadata": {},
   "outputs": [
    {
     "data": {
      "text/plain": [
       "2"
      ]
     },
     "execution_count": 27,
     "metadata": {},
     "output_type": "execute_result"
    }
   ],
   "source": [
    "import math\n",
    "\n",
    "def is_power_of_three(n: int) -> bool:\n",
    "    return n > 0 and 3 ** round(math.log(n, 3)) == n\n"
   ]
  },
  {
   "cell_type": "code",
   "execution_count": 1,
   "id": "234e228e",
   "metadata": {},
   "outputs": [],
   "source": [
    "import requests\n",
    "url = \"http://localhost:8000/add\"  # Replace with your endpoint URL\n",
    "data = {\n",
    "    'a':100,\n",
    "    'b':100\n",
    "}\n",
    "headers={\n",
    "    'accept':'application/json',\n",
    "    'Content-Type':'application/json'\n",
    "}\n",
    "\n",
    "response = requests.post(url, json=data,headers=headers)"
   ]
  },
  {
   "cell_type": "code",
   "execution_count": 3,
   "id": "1fb1be23",
   "metadata": {},
   "outputs": [
    {
     "data": {
      "text/plain": [
       "'{\"result\":200.0}'"
      ]
     },
     "execution_count": 3,
     "metadata": {},
     "output_type": "execute_result"
    }
   ],
   "source": [
    "response.text"
   ]
  },
  {
   "cell_type": "code",
   "execution_count": 4,
   "id": "7391628b",
   "metadata": {},
   "outputs": [],
   "source": [
    "ip1={\n",
    "    \n",
    "            \"type\": \"object\",\n",
    "            \"properties\": {\n",
    "            \"a\": {\"type\": \"integer\", \"description\": \"First integer to add\"},\n",
    "            \"b\": {\"type\": \"integer\", \"description\": \"Second integer to add\"}\n",
    "            },\n",
    "            \"required\": [\"a\", \"b\"]\n",
    "        }"
   ]
  },
  {
   "cell_type": "code",
   "execution_count": 5,
   "id": "3eaccff4",
   "metadata": {},
   "outputs": [
    {
     "data": {
      "text/plain": [
       "True"
      ]
     },
     "execution_count": 5,
     "metadata": {},
     "output_type": "execute_result"
    }
   ],
   "source": [
    "ip1==input_scheme[0]"
   ]
  },
  {
   "cell_type": "code",
   "execution_count": 1,
   "id": "bac1f59a",
   "metadata": {},
   "outputs": [],
   "source": [
    "input_scheme=[\n",
    "    {\n",
    "        \"type\": \"object\",\n",
    "            \"properties\": {\n",
    "            \"a\": {\"type\": \"integer\", \"description\": \"First integer to add\"},\n",
    "            \"b\": {\"type\": \"integer\", \"description\": \"Second integer to add\"}\n",
    "            },\n",
    "            \"required\": [\"a\", \"b\"]\n",
    "    },\n",
    "    {\n",
    "        \"type\": \"object\",\n",
    "            \"properties\": {\n",
    "            \"a\": {\"type\": \"integer\", \"description\": \"First integer to Multiply\"},\n",
    "            \"b\": {\"type\": \"float\", \"description\": \"Second integer to Multiply\"}\n",
    "            },\n",
    "        \n",
    "            \"required\": [\"a\", \"b\"]\n",
    "        \n",
    "    }\n",
    "]"
   ]
  },
  {
   "cell_type": "code",
   "execution_count": null,
   "id": "ed2a3db6",
   "metadata": {},
   "outputs": [
    {
     "data": {
      "text/plain": [
       "dict"
      ]
     },
     "execution_count": 3,
     "metadata": {},
     "output_type": "execute_result"
    }
   ],
   "source": [
    "type(input_scheme[1])\n"
   ]
  }
 ],
 "metadata": {
  "kernelspec": {
   "display_name": "agenticai",
   "language": "python",
   "name": "python3"
  },
  "language_info": {
   "codemirror_mode": {
    "name": "ipython",
    "version": 3
   },
   "file_extension": ".py",
   "mimetype": "text/x-python",
   "name": "python",
   "nbconvert_exporter": "python",
   "pygments_lexer": "ipython3",
   "version": "3.13.6"
  }
 },
 "nbformat": 4,
 "nbformat_minor": 5
}
