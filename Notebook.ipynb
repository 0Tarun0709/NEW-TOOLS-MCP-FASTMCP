{
 "cells": [
  {
   "cell_type": "code",
   "execution_count": 14,
   "id": "7c8f4d08",
   "metadata": {},
   "outputs": [
    {
     "data": {
      "text/plain": [
       "False"
      ]
     },
     "execution_count": 14,
     "metadata": {},
     "output_type": "execute_result"
    }
   ],
   "source": [
    "num='112'\n",
    "i=0\n",
    "window=num[i]+num[i+1]+num[i+2]\n",
    "num[i]==num[i+1]==num[i+2]"
   ]
  },
  {
   "cell_type": "code",
   "execution_count": 12,
   "id": "e713359d",
   "metadata": {},
   "outputs": [
    {
     "data": {
      "text/plain": [
       "True"
      ]
     },
     "execution_count": 12,
     "metadata": {},
     "output_type": "execute_result"
    }
   ],
   "source": [
    "(n & (n - 1)) == 0 and (n - 1) % 3 == 0"
   ]
  },
  {
   "cell_type": "code",
   "execution_count": 4,
   "id": "cf7f4de3",
   "metadata": {},
   "outputs": [
    {
     "data": {
      "text/plain": [
       "True"
      ]
     },
     "execution_count": 4,
     "metadata": {},
     "output_type": "execute_result"
    }
   ],
   "source": [
    "(0/4)%4==0"
   ]
  },
  {
   "cell_type": "code",
   "execution_count": null,
   "id": "3fb1902c",
   "metadata": {},
   "outputs": [],
   "source": [
    "def largestGoodInteger(num: str) -> str:\n",
    "    result = ''\n",
    "    for i in range(len(num) - 2):\n",
    "        window = num[i:i+3]\n",
    "        if window[0] == window[1] == window[2]:\n",
    "            if result == '' or int(window) > int(result):\n",
    "                result = window\n",
    "    return result\n",
    "        "
   ]
  },
  {
   "cell_type": "code",
   "execution_count": 23,
   "id": "e7c93f48",
   "metadata": {},
   "outputs": [
    {
     "data": {
      "text/plain": [
       "'999'"
      ]
     },
     "execution_count": 23,
     "metadata": {},
     "output_type": "execute_result"
    }
   ],
   "source": [
    "class Solution:\n",
    "    def isPowerOfThree(self, n: int) -> bool:\n",
    "        if n <= 0:\n",
    "            return False\n",
    "        while n % 3 == 0:\n",
    "            n //= 3\n",
    "        return n == 1\n",
    "                "
   ]
  },
  {
   "cell_type": "code",
   "execution_count": 27,
   "id": "f8eb633e",
   "metadata": {},
   "outputs": [
    {
     "data": {
      "text/plain": [
       "2"
      ]
     },
     "execution_count": 27,
     "metadata": {},
     "output_type": "execute_result"
    }
   ],
   "source": [
    "import math\n",
    "\n",
    "def is_power_of_three(n: int) -> bool:\n",
    "    return n > 0 and 3 ** round(math.log(n, 3)) == n\n"
   ]
  },
  {
   "cell_type": "code",
   "execution_count": 1,
   "id": "234e228e",
   "metadata": {},
   "outputs": [],
   "source": [
    "import requests\n",
    "url = \"http://localhost:8000/add\"  # Replace with your endpoint URL\n",
    "data = {\n",
    "    'a':100,\n",
    "    'b':100\n",
    "}\n",
    "headers={\n",
    "    'accept':'application/json',\n",
    "    'Content-Type':'application/json'\n",
    "}\n",
    "\n",
    "response = requests.post(url, json=data,headers=headers)"
   ]
  },
  {
   "cell_type": "code",
   "execution_count": 3,
   "id": "1fb1be23",
   "metadata": {},
   "outputs": [
    {
     "data": {
      "text/plain": [
       "'{\"result\":200.0}'"
      ]
     },
     "execution_count": 3,
     "metadata": {},
     "output_type": "execute_result"
    }
   ],
   "source": [
    "response.text"
   ]
  },
  {
   "cell_type": "code",
   "execution_count": 4,
   "id": "7391628b",
   "metadata": {},
   "outputs": [],
   "source": [
    "ip1={\n",
    "    \n",
    "            \"type\": \"object\",\n",
    "            \"properties\": {\n",
    "            \"a\": {\"type\": \"integer\", \"description\": \"First integer to add\"},\n",
    "            \"b\": {\"type\": \"integer\", \"description\": \"Second integer to add\"}\n",
    "            },\n",
    "            \"required\": [\"a\", \"b\"]\n",
    "        }"
   ]
  },
  {
   "cell_type": "code",
   "execution_count": 5,
   "id": "3eaccff4",
   "metadata": {},
   "outputs": [
    {
     "data": {
      "text/plain": [
       "True"
      ]
     },
     "execution_count": 5,
     "metadata": {},
     "output_type": "execute_result"
    }
   ],
   "source": [
    "ip1==input_scheme[0]"
   ]
  },
  {
   "cell_type": "code",
   "execution_count": 1,
   "id": "bac1f59a",
   "metadata": {},
   "outputs": [],
   "source": [
    "input_scheme=[\n",
    "    {\n",
    "        \"type\": \"object\",\n",
    "            \"properties\": {\n",
    "            \"a\": {\"type\": \"integer\", \"description\": \"First integer to add\"},\n",
    "            \"b\": {\"type\": \"integer\", \"description\": \"Second integer to add\"}\n",
    "            },\n",
    "            \"required\": [\"a\", \"b\"]\n",
    "    },\n",
    "    {\n",
    "        \"type\": \"object\",\n",
    "            \"properties\": {\n",
    "            \"a\": {\"type\": \"integer\", \"description\": \"First integer to Multiply\"},\n",
    "            \"b\": {\"type\": \"float\", \"description\": \"Second integer to Multiply\"}\n",
    "            },\n",
    "        \n",
    "            \"required\": [\"a\", \"b\"]\n",
    "        \n",
    "    }\n",
    "]"
   ]
  },
  {
   "cell_type": "code",
   "execution_count": 3,
   "id": "ed2a3db6",
   "metadata": {},
   "outputs": [
    {
     "data": {
      "text/plain": [
       "dict"
      ]
     },
     "execution_count": 3,
     "metadata": {},
     "output_type": "execute_result"
    }
   ],
   "source": [
    "type(input_scheme[1])\n"
   ]
  },
  {
   "cell_type": "markdown",
   "id": "30d83121",
   "metadata": {},
   "source": [
    "# Building Parser\n"
   ]
  },
  {
   "cell_type": "code",
   "execution_count": 1,
   "id": "d8c76767",
   "metadata": {},
   "outputs": [
    {
     "name": "stdout",
     "output_type": "stream",
     "text": [
      "[Tool(name='add_add_post', title=None, description=None, inputSchema={'type': 'object', 'properties': {}, 'required': []}, outputSchema=None, annotations=None, meta=None), Tool(name='multiply_multiply_post', title=None, description=None, inputSchema={'type': 'object', 'properties': {}, 'required': []}, outputSchema=None, annotations=None, meta=None), Tool(name='forecast_get_forecast_post', title=None, description=None, inputSchema={'type': 'object', 'properties': {'latitude': {'type': 'number', 'description': ''}, 'longitude': {'type': 'number', 'description': ''}}, 'required': ['latitude', 'longitude']}, outputSchema=None, annotations=None, meta=None), Tool(name='alerts_get_alerts_post', title=None, description=None, inputSchema={'type': 'object', 'properties': {}, 'required': []}, outputSchema=None, annotations=None, meta=None)]\n"
     ]
    }
   ],
   "source": [
    "import requests\n",
    "import json\n",
    "from mcp.types import Tool\n",
    "\n",
    "def parse_openapi(openapi_url: str) -> list[Tool]:\n",
    "    \"\"\"Parse OpenAPI spec and return a list of MCP Tools\"\"\"\n",
    "    response = requests.get(openapi_url)\n",
    "    response.raise_for_status()\n",
    "    spec = response.json()\n",
    "\n",
    "    tools = []\n",
    "\n",
    "    # Iterate over all paths\n",
    "    for path, methods in spec.get(\"paths\", {}).items():\n",
    "        for method, details in methods.items():\n",
    "            tool_name = details.get(\"operationId\", f\"{method}_{path}\")\n",
    "            description = details.get(\"description\", details.get(\"summary\", \"\"))\n",
    "\n",
    "            # Collect input schema (body + query params)\n",
    "            properties = {}\n",
    "            required = []\n",
    "\n",
    "            # Query params\n",
    "            for param in details.get(\"parameters\", []):\n",
    "                pname = param[\"name\"]\n",
    "                ptype = param.get(\"schema\", {}).get(\"type\", \"string\")\n",
    "                properties[pname] = {\"type\": ptype, \"description\": param.get(\"description\", \"\")}\n",
    "                if param.get(\"required\"):\n",
    "                    required.append(pname)\n",
    "\n",
    "            # Request body schema\n",
    "            if \"requestBody\" in details:\n",
    "                content = details[\"requestBody\"][\"content\"]\n",
    "                if \"application/json\" in content:\n",
    "                    schema = content[\"application/json\"][\"schema\"]\n",
    "                    if \"properties\" in schema:\n",
    "                        properties.update(schema[\"properties\"])\n",
    "                        required.extend(schema.get(\"required\", []))\n",
    "\n",
    "            # Build MCP Tool\n",
    "            tool = Tool(\n",
    "                name=tool_name,\n",
    "                inputSchema={\n",
    "                    \"type\": \"object\",\n",
    "                    \"properties\": properties,\n",
    "                    \"required\": required\n",
    "                }\n",
    "            )\n",
    "            tools.append(tool)\n",
    "\n",
    "    return tools\n",
    "tools=parse_openapi(\"http://localhost:8000/openapi.json\")\n",
    "print(tools)\n"
   ]
  },
  {
   "cell_type": "code",
   "execution_count": 2,
   "id": "ae8960ad",
   "metadata": {},
   "outputs": [
    {
     "data": {
      "text/plain": [
       "[Tool(name='add_add_post', title=None, description=None, inputSchema={'type': 'object', 'properties': {}, 'required': []}, outputSchema=None, annotations=None, meta=None),\n",
       " Tool(name='multiply_multiply_post', title=None, description=None, inputSchema={'type': 'object', 'properties': {}, 'required': []}, outputSchema=None, annotations=None, meta=None),\n",
       " Tool(name='forecast_get_forecast_post', title=None, description=None, inputSchema={'type': 'object', 'properties': {'latitude': {'type': 'number', 'description': ''}, 'longitude': {'type': 'number', 'description': ''}}, 'required': ['latitude', 'longitude']}, outputSchema=None, annotations=None, meta=None),\n",
       " Tool(name='alerts_get_alerts_post', title=None, description=None, inputSchema={'type': 'object', 'properties': {}, 'required': []}, outputSchema=None, annotations=None, meta=None)]"
      ]
     },
     "execution_count": 2,
     "metadata": {},
     "output_type": "execute_result"
    }
   ],
   "source": [
    "tools"
   ]
  },
  {
   "cell_type": "code",
   "execution_count": 3,
   "id": "370bef5c",
   "metadata": {},
   "outputs": [
    {
     "name": "stderr",
     "output_type": "stream",
     "text": [
      "C:\\Users\\z0052mvs\\AppData\\Local\\Temp\\ipykernel_11804\\2050117476.py:1: PydanticDeprecatedSince20: The `json` method is deprecated; use `model_dump_json` instead. Deprecated in Pydantic V2.0 to be removed in V3.0. See Pydantic V2 Migration Guide at https://errors.pydantic.dev/2.11/migration/\n",
      "  j=tools[0].json()\n",
      "C:\\Users\\z0052mvs\\AppData\\Local\\Temp\\ipykernel_11804\\2050117476.py:2: PydanticDeprecatedSince20: The `json` method is deprecated; use `model_dump_json` instead. Deprecated in Pydantic V2.0 to be removed in V3.0. See Pydantic V2 Migration Guide at https://errors.pydantic.dev/2.11/migration/\n",
      "  j2=tools[1].json()\n",
      "C:\\Users\\z0052mvs\\AppData\\Local\\Temp\\ipykernel_11804\\2050117476.py:3: PydanticDeprecatedSince20: The `json` method is deprecated; use `model_dump_json` instead. Deprecated in Pydantic V2.0 to be removed in V3.0. See Pydantic V2 Migration Guide at https://errors.pydantic.dev/2.11/migration/\n",
      "  j3=tools[2].json()\n"
     ]
    }
   ],
   "source": [
    "j=tools[0].json()\n",
    "j2=tools[1].json()\n",
    "j3=tools[2].json()\n",
    "\n"
   ]
  },
  {
   "cell_type": "code",
   "execution_count": 16,
   "id": "9521c558",
   "metadata": {},
   "outputs": [
    {
     "data": {
      "text/plain": [
       "'{\"name\":\"multiply_multiply_post\",\"title\":null,\"description\":null,\"inputSchema\":{\"type\":\"object\",\"properties\":{},\"required\":[]},\"outputSchema\":null,\"annotations\":null,\"meta\":null}'"
      ]
     },
     "execution_count": 16,
     "metadata": {},
     "output_type": "execute_result"
    }
   ],
   "source": [
    "j2"
   ]
  },
  {
   "cell_type": "code",
   "execution_count": 14,
   "id": "1357575a",
   "metadata": {},
   "outputs": [
    {
     "name": "stdout",
     "output_type": "stream",
     "text": [
      "{\"name\":\"add_add_post\",\"title\":null,\"description\":null,\"inputSchema\":{\"type\":\"object\",\"properties\":{},\"required\":[]},\"outputSchema\":null,\"annotations\":null,\"meta\":null}\n"
     ]
    }
   ],
   "source": [
    "print(j)"
   ]
  },
  {
   "cell_type": "code",
   "execution_count": 4,
   "id": "94e3d099",
   "metadata": {},
   "outputs": [],
   "source": [
    "import json\n",
    "\n",
    "def resolve_ref(ref: str, spec: dict):\n",
    "    \"\"\"Resolve a $ref like '#/components/schemas/WeatherRequest'.\"\"\"\n",
    "    parts = ref.lstrip(\"#/\").split(\"/\")\n",
    "    obj = spec\n",
    "    for part in parts:\n",
    "        obj = obj[part]\n",
    "    return obj\n",
    "\n",
    "def parse_openapi(openapi_json: dict):\n",
    "    endpoints = []\n",
    "\n",
    "    for path, methods in openapi_json.get(\"paths\", {}).items():\n",
    "        for method, details in methods.items():\n",
    "            endpoint = {\n",
    "                \"path\": path,\n",
    "                \"method\": method.upper(),\n",
    "                \"summary\": details.get(\"summary\"),\n",
    "                \"parameters\": [],\n",
    "                \"requestBody\": None,\n",
    "                \"responses\": {}\n",
    "            }\n",
    "\n",
    "            # Parameters (query/path)\n",
    "            for param in details.get(\"parameters\", []):\n",
    "                schema = param.get(\"schema\", {})\n",
    "                if \"$ref\" in schema:\n",
    "                    schema = resolve_ref(schema[\"$ref\"], openapi_json)\n",
    "                endpoint[\"parameters\"].append({\n",
    "                    \"name\": param[\"name\"],\n",
    "                    \"in\": param[\"in\"],\n",
    "                    \"required\": param.get(\"required\", False),\n",
    "                    \"schema\": schema\n",
    "                })\n",
    "\n",
    "            # Request Body\n",
    "            request_body = details.get(\"requestBody\")\n",
    "            if request_body:\n",
    "                content = request_body.get(\"content\", {})\n",
    "                if \"application/json\" in content:\n",
    "                    schema = content[\"application/json\"][\"schema\"]\n",
    "                    if \"$ref\" in schema:\n",
    "                        schema = resolve_ref(schema[\"$ref\"], openapi_json)\n",
    "                    endpoint[\"requestBody\"] = {\n",
    "                        \"required\": request_body.get(\"required\", False),\n",
    "                        \"schema\": schema\n",
    "                    }\n",
    "\n",
    "            # Responses\n",
    "            for status, response in details.get(\"responses\", {}).items():\n",
    "                content = response.get(\"content\", {})\n",
    "                if \"application/json\" in content:\n",
    "                    schema = content[\"application/json\"].get(\"schema\", {})\n",
    "                    if \"$ref\" in schema:\n",
    "                        schema = resolve_ref(schema[\"$ref\"], openapi_json)\n",
    "                    endpoint[\"responses\"][status] = schema\n",
    "\n",
    "            endpoints.append(endpoint)\n",
    "\n",
    "    return endpoints\n"
   ]
  },
  {
   "cell_type": "code",
   "execution_count": 5,
   "id": "6eee60da",
   "metadata": {},
   "outputs": [],
   "source": [
    "config={\"openapi\":\"3.1.0\",\"info\":{\"title\":\"FastAPI\",\"version\":\"0.1.0\"},\"paths\":{\"/add\":{\"post\":{\"summary\":\"Add\",\"operationId\":\"add_add_post\",\"requestBody\":{\"content\":{\"application/json\":{\"schema\":{\"$ref\":\"#/components/schemas/Numbers\"}}},\"required\":True},\"responses\":{\"200\":{\"description\":\"Successful Response\",\"content\":{\"application/json\":{\"schema\":{}}}},\"422\":{\"description\":\"Validation Error\",\"content\":{\"application/json\":{\"schema\":{\"$ref\":\"#/components/schemas/HTTPValidationError\"}}}}}}},\"/multiply\":{\"post\":{\"summary\":\"Multiply\",\"operationId\":\"multiply_multiply_post\",\"requestBody\":{\"content\":{\"application/json\":{\"schema\":{\"$ref\":\"#/components/schemas/Numbers\"}}},\"required\":True},\"responses\":{\"200\":{\"description\":\"Successful Response\",\"content\":{\"application/json\":{\"schema\":{}}}},\"422\":{\"description\":\"Validation Error\",\"content\":{\"application/json\":{\"schema\":{\"$ref\":\"#/components/schemas/HTTPValidationError\"}}}}}}},\"/get_forecast\":{\"post\":{\"summary\":\"Forecast\",\"operationId\":\"forecast_get_forecast_post\",\"parameters\":[{\"name\":\"latitude\",\"in\":\"query\",\"required\":True,\"schema\":{\"type\":\"number\",\"title\":\"Latitude\"}},{\"name\":\"longitude\",\"in\":\"query\",\"required\":True,\"schema\":{\"type\":\"number\",\"title\":\"Longitude\"}}],\"responses\":{\"200\":{\"description\":\"Successful Response\",\"content\":{\"application/json\":{\"schema\":{}}}},\"422\":{\"description\":\"Validation Error\",\"content\":{\"application/json\":{\"schema\":{\"$ref\":\"#/components/schemas/HTTPValidationError\"}}}}}}},\"/get_alerts\":{\"post\":{\"summary\":\"Alerts\",\"operationId\":\"alerts_get_alerts_post\",\"requestBody\":{\"content\":{\"application/json\":{\"schema\":{\"$ref\":\"#/components/schemas/WeatherRequest\"}}},\"required\":True},\"responses\":{\"200\":{\"description\":\"Successful Response\",\"content\":{\"application/json\":{\"schema\":{}}}},\"422\":{\"description\":\"Validation Error\",\"content\":{\"application/json\":{\"schema\":{\"$ref\":\"#/components/schemas/HTTPValidationError\"}}}}}}}},\"components\":{\"schemas\":{\"HTTPValidationError\":{\"properties\":{\"detail\":{\"items\":{\"$ref\":\"#/components/schemas/ValidationError\"},\"type\":\"array\",\"title\":\"Detail\"}},\"type\":\"object\",\"title\":\"HTTPValidationError\"},\"Numbers\":{\"properties\":{\"a\":{\"type\":\"number\",\"title\":\"A\"},\"b\":{\"type\":\"number\",\"title\":\"B\"}},\"type\":\"object\",\"required\":[\"a\",\"b\"],\"title\":\"Numbers\"},\"ValidationError\":{\"properties\":{\"loc\":{\"items\":{\"anyOf\":[{\"type\":\"string\"},{\"type\":\"integer\"}]},\"type\":\"array\",\"title\":\"Location\"},\"msg\":{\"type\":\"string\",\"title\":\"Message\"},\"type\":{\"type\":\"string\",\"title\":\"Error Type\"}},\"type\":\"object\",\"required\":[\"loc\",\"msg\",\"type\"],\"title\":\"ValidationError\"},\"WeatherRequest\":{\"properties\":{\"state\":{\"type\":\"string\",\"title\":\"State\"}},\"type\":\"object\",\"required\":[\"state\"],\"title\":\"WeatherRequest\"}}}}\n"
   ]
  },
  {
   "cell_type": "code",
   "execution_count": 6,
   "id": "a060b402",
   "metadata": {},
   "outputs": [
    {
     "name": "stdout",
     "output_type": "stream",
     "text": [
      "POST /add\n",
      "  Request Schema: {'properties': {'a': {'type': 'number', 'title': 'A'}, 'b': {'type': 'number', 'title': 'B'}}, 'type': 'object', 'required': ['a', 'b'], 'title': 'Numbers'}\n",
      "POST /multiply\n",
      "  Request Schema: {'properties': {'a': {'type': 'number', 'title': 'A'}, 'b': {'type': 'number', 'title': 'B'}}, 'type': 'object', 'required': ['a', 'b'], 'title': 'Numbers'}\n",
      "POST /get_forecast\n",
      "  Parameters: [{'name': 'latitude', 'in': 'query', 'required': True, 'schema': {'type': 'number', 'title': 'Latitude'}}, {'name': 'longitude', 'in': 'query', 'required': True, 'schema': {'type': 'number', 'title': 'Longitude'}}]\n",
      "POST /get_alerts\n",
      "  Request Schema: {'properties': {'state': {'type': 'string', 'title': 'State'}}, 'type': 'object', 'required': ['state'], 'title': 'WeatherRequest'}\n"
     ]
    }
   ],
   "source": [
    "spec =config\n",
    "\n",
    "endpoints = parse_openapi(spec)\n",
    "\n",
    "for ep in endpoints:\n",
    "    print(ep[\"method\"], ep[\"path\"])\n",
    "    if ep[\"requestBody\"]:\n",
    "        print(\"  Request Schema:\", ep[\"requestBody\"][\"schema\"])\n",
    "    if ep[\"parameters\"]:\n",
    "        print(\"  Parameters:\", ep[\"parameters\"])\n"
   ]
  },
  {
   "cell_type": "code",
   "execution_count": 11,
   "id": "ae8d6df8",
   "metadata": {},
   "outputs": [],
   "source": [
    "import json\n",
    "import requests\n",
    "import logging as logger\n",
    "from copy import deepcopy\n",
    "from typing import List\n",
    "from mcp.types import Tool, TextContent\n",
    "\n",
    "# --------------------------\n",
    "# OpenAPI Parser\n",
    "# --------------------------\n",
    "\n",
    "def resolve_ref(ref: str, spec: dict):\n",
    "    \"\"\"Resolve a $ref like '#/components/schemas/WeatherRequest'.\"\"\"\n",
    "    parts = ref.lstrip(\"#/\").split(\"/\")\n",
    "    obj = spec\n",
    "    for part in parts:\n",
    "        obj = obj[part]\n",
    "    return deepcopy(obj)\n",
    "\n",
    "def expand_schema(schema: dict, spec: dict):\n",
    "    \"\"\"Recursively expand schema by resolving $ref.\"\"\"\n",
    "    if not isinstance(schema, dict):\n",
    "        return schema\n",
    "\n",
    "    if \"$ref\" in schema:\n",
    "        schema = resolve_ref(schema[\"$ref\"], spec)\n",
    "\n",
    "    if \"properties\" in schema:\n",
    "        for k, v in schema[\"properties\"].items():\n",
    "            schema[\"properties\"][k] = expand_schema(v, spec)\n",
    "\n",
    "    if \"items\" in schema:\n",
    "        schema[\"items\"] = expand_schema(schema[\"items\"], spec)\n",
    "\n",
    "    return schema\n",
    "\n",
    "def parse_openapi_to_tools(openapi_json: dict):\n",
    "    \"\"\"\n",
    "    Parse OpenAPI spec and return:\n",
    "      1. tools (list of Tool objects)\n",
    "      2. tool_map (metadata for call_tool)\n",
    "    \"\"\"\n",
    "    tools = []\n",
    "    tool_map = {}\n",
    "\n",
    "    for path, methods in openapi_json.get(\"paths\", {}).items():\n",
    "        for method, details in methods.items():\n",
    "            tool_name = details.get(\"summary\", path).replace(\" \", \"_\")\n",
    "\n",
    "            # Default input schema\n",
    "            input_schema = {\"type\": \"object\", \"properties\": {}, \"required\": []}\n",
    "\n",
    "            # Parameters (query/path)\n",
    "            for param in details.get(\"parameters\", []):\n",
    "                schema = expand_schema(param.get(\"schema\", {}), openapi_json)\n",
    "                input_schema[\"properties\"][param[\"name\"]] = schema\n",
    "                if param.get(\"required\", False):\n",
    "                    input_schema.setdefault(\"required\", []).append(param[\"name\"])\n",
    "\n",
    "            # Request Body\n",
    "            request_body = details.get(\"requestBody\")\n",
    "            if request_body:\n",
    "                content = request_body.get(\"content\", {})\n",
    "                if \"application/json\" in content:\n",
    "                    schema = expand_schema(content[\"application/json\"][\"schema\"], openapi_json)\n",
    "                    input_schema = schema  # override with request schema\n",
    "\n",
    "            # Register Tool\n",
    "            tool = Tool(\n",
    "                name=tool_name,\n",
    "                inputSchema=input_schema\n",
    "            )\n",
    "            tools.append(tool)\n",
    "\n",
    "            # Store for call_tool lookup\n",
    "            tool_map[tool_name] = {\n",
    "                \"path\": path,\n",
    "                \"method\": method.upper(),\n",
    "                \"headers\": {\n",
    "                    \"accept\": \"application/json\",\n",
    "                    \"Content-Type\": \"application/json\"\n",
    "                }\n",
    "            }\n",
    "\n",
    "    return tools, tool_map"
   ]
  },
  {
   "cell_type": "code",
   "execution_count": 12,
   "id": "32b1d9d2",
   "metadata": {},
   "outputs": [],
   "source": [
    "response = requests.get(\"http://132.186.158.40:8007/openapi.json\")\n",
    "response.raise_for_status()\n",
    "spec = response.json()\n",
    "tools, tool_map = parse_openapi_to_tools(spec)"
   ]
  },
  {
   "cell_type": "code",
   "execution_count": 13,
   "id": "e477e912",
   "metadata": {},
   "outputs": [
    {
     "data": {
      "text/plain": [
       "[Tool(name='Index', title=None, description=None, inputSchema={'type': 'object', 'properties': {}, 'required': []}, outputSchema=None, annotations=None, meta=None),\n",
       " Tool(name='User_Story', title=None, description=None, inputSchema={'type': 'object', 'properties': {'customer_requirement': {'type': 'string', 'title': 'Customer Requirement'}}, 'required': ['customer_requirement']}, outputSchema=None, annotations=None, meta=None),\n",
       " Tool(name='Generate_User_Story', title=None, description=None, inputSchema={'properties': {'customer_requirement': {'type': 'string', 'title': 'Customer Requirement', 'default': 'I want to be able to scan barcodes on luggage bag using my mobile phone application so that I can view detailed information about the bag, including from owners details, drop location, weight of the bag.'}, 'number_of_gaps': {'type': 'integer', 'title': 'Number Of Gaps', 'default': 5}, 'temperature': {'type': 'number', 'title': 'Temperature', 'default': 0}, 'unique_id': {'anyOf': [{'type': 'string'}, {'type': 'null'}], 'title': 'Unique Id'}, 'relevance': {'type': 'boolean', 'title': 'Relevance', 'default': True}, 'name': {'type': 'string', 'title': 'Name'}, 'employee_id': {'type': 'string', 'title': 'Employee Id'}}, 'type': 'object', 'required': ['name', 'employee_id'], 'title': 'UserStoryRequest'}, outputSchema=None, annotations=None, meta=None),\n",
       " Tool(name='Generate_User_Story_Sp5', title=None, description=None, inputSchema={'properties': {'customer_requirement': {'type': 'string', 'title': 'Customer Requirement', 'default': 'I want to be able to scan barcodes on luggage bag using my mobile phone application so that I can view detailed information about the bag, including from owners details, drop location, weight of the bag.'}, 'number_of_gaps': {'type': 'integer', 'title': 'Number Of Gaps', 'default': 5}, 'temperature': {'type': 'number', 'title': 'Temperature', 'default': 0}, 'unique_id': {'anyOf': [{'type': 'string'}, {'type': 'null'}], 'title': 'Unique Id'}, 'relevance': {'type': 'boolean', 'title': 'Relevance', 'default': True}, 'name': {'type': 'string', 'title': 'Name'}, 'employee_id': {'type': 'string', 'title': 'Employee Id'}}, 'type': 'object', 'required': ['name', 'employee_id'], 'title': 'UserStoryRequest'}, outputSchema=None, annotations=None, meta=None),\n",
       " Tool(name='Generate_User_Story_Sp7', title=None, description=None, inputSchema={'properties': {'customer_requirement': {'type': 'string', 'title': 'Customer Requirement', 'default': 'I want to be able to scan barcodes on luggage bag using my mobile phone application so that I can view detailed information about the bag, including from owners details, drop location, weight of the bag.'}, 'number_of_gaps': {'type': 'integer', 'title': 'Number Of Gaps', 'default': 5}, 'temperature': {'type': 'number', 'title': 'Temperature', 'default': 0}, 'unique_id': {'anyOf': [{'type': 'string'}, {'type': 'null'}], 'title': 'Unique Id'}, 'relevance': {'type': 'boolean', 'title': 'Relevance', 'default': True}, 'name': {'type': 'string', 'title': 'Name'}, 'employee_id': {'type': 'string', 'title': 'Employee Id'}}, 'type': 'object', 'required': ['name', 'employee_id'], 'title': 'UserStoryRequest'}, outputSchema=None, annotations=None, meta=None),\n",
       " Tool(name='Generate_User_Story_Cms', title=None, description=None, inputSchema={'properties': {'customer_requirement': {'type': 'string', 'title': 'Customer Requirement', 'default': 'I want to be able to scan barcodes on luggage bag using my mobile phone application so that I can view detailed information about the bag, including from owners details, drop location, weight of the bag.'}, 'number_of_gaps': {'type': 'integer', 'title': 'Number Of Gaps', 'default': 5}, 'temperature': {'type': 'number', 'title': 'Temperature', 'default': 0}, 'unique_id': {'anyOf': [{'type': 'string'}, {'type': 'null'}], 'title': 'Unique Id'}, 'relevance': {'type': 'boolean', 'title': 'Relevance', 'default': True}, 'name': {'type': 'string', 'title': 'Name'}, 'employee_id': {'type': 'string', 'title': 'Employee Id'}}, 'type': 'object', 'required': ['name', 'employee_id'], 'title': 'UserStoryRequest'}, outputSchema=None, annotations=None, meta=None),\n",
       " Tool(name='Generate_User_Story_Sen', title=None, description=None, inputSchema={'properties': {'customer_requirement': {'type': 'string', 'title': 'Customer Requirement', 'default': 'I want to be able to scan barcodes on luggage bag using my mobile phone application so that I can view detailed information about the bag, including from owners details, drop location, weight of the bag.'}, 'number_of_gaps': {'type': 'integer', 'title': 'Number Of Gaps', 'default': 5}, 'temperature': {'type': 'number', 'title': 'Temperature', 'default': 0}, 'unique_id': {'anyOf': [{'type': 'string'}, {'type': 'null'}], 'title': 'Unique Id'}, 'relevance': {'type': 'boolean', 'title': 'Relevance', 'default': True}, 'name': {'type': 'string', 'title': 'Name'}, 'employee_id': {'type': 'string', 'title': 'Employee Id'}}, 'type': 'object', 'required': ['name', 'employee_id'], 'title': 'UserStoryRequest'}, outputSchema=None, annotations=None, meta=None),\n",
       " Tool(name='Create_Jira_Issue_Endpoint', title=None, description=None, inputSchema={'properties': {'unique_id': {'type': 'string', 'title': 'Unique Id'}, 'request_index': {'type': 'integer', 'title': 'Request Index'}}, 'type': 'object', 'required': ['unique_id'], 'title': 'JiraRequest'}, outputSchema=None, annotations=None, meta=None),\n",
       " Tool(name='Generate_Test_Cases', title=None, description=None, inputSchema={'properties': {'user_story_acceptance_criteria': {'type': 'string', 'title': 'User Story Acceptance Criteria', 'default': \"User Story: As a traveler, I want to be able to use my mobile phone application to scan the barcode on my luggage bag, so that I can view detailed information about the bag, including the owner's details, drop location, and weight of the bag.\\n\\n    Acceptance Criteria:\\n\\n    The mobile application must be able to scan the barcode on the luggage bag.\\n    The application must display the owner's name, contact details, and any other relevant information about the bag.\\n    The application must be able to display the drop location of the luggage bag.\\n    The application must display the weight of the luggage bag accurately.\\n    Scenario: Given that I am a traveler When I open the mobile phone application And I scan the barcode on my luggage bag Then the application displays the owner's details And the application displays the drop location of the luggage bag And the application displays the weight of the luggage bag accurately\\n\\n    Gaps:\\n\\n    The user story does not mention how the application will authenticate the user before displaying the information.\\n    The user story does not specify the type of barcode that will be used (QR code, barcode, etc.).\\n    The user story does not mention what happens if the luggage bag does not have a barcode.\\n    The user story does not specify how the application will retrieve the information about the luggage bag.\\n    The user story does not mention how the application will handle cases where the luggage bag information is incorrect or outdated.\"}, 'temperature': {'type': 'number', 'title': 'Temperature', 'default': 0}, 'unique_id': {'anyOf': [{'type': 'string'}, {'type': 'null'}], 'title': 'Unique Id'}}, 'type': 'object', 'title': 'RefinedUserStory'}, outputSchema=None, annotations=None, meta=None),\n",
       " Tool(name='Gaps_In_Jira_Ticket', title=None, description=None, inputSchema={'type': 'object', 'title': 'Jira Issue Payload'}, outputSchema=None, annotations=None, meta=None)]"
      ]
     },
     "execution_count": 13,
     "metadata": {},
     "output_type": "execute_result"
    }
   ],
   "source": [
    "tools"
   ]
  },
  {
   "cell_type": "code",
   "execution_count": 14,
   "id": "1927ee15",
   "metadata": {},
   "outputs": [
    {
     "data": {
      "text/plain": [
       "{'Index': {'path': '/',\n",
       "  'method': 'GET',\n",
       "  'headers': {'accept': 'application/json',\n",
       "   'Content-Type': 'application/json'}},\n",
       " 'User_Story': {'path': '/user_story',\n",
       "  'method': 'POST',\n",
       "  'headers': {'accept': 'application/json',\n",
       "   'Content-Type': 'application/json'}},\n",
       " 'Generate_User_Story': {'path': '/user_story/v1',\n",
       "  'method': 'POST',\n",
       "  'headers': {'accept': 'application/json',\n",
       "   'Content-Type': 'application/json'}},\n",
       " 'Generate_User_Story_Sp5': {'path': '/user_story/sp5',\n",
       "  'method': 'POST',\n",
       "  'headers': {'accept': 'application/json',\n",
       "   'Content-Type': 'application/json'}},\n",
       " 'Generate_User_Story_Sp7': {'path': '/user_story/sp7',\n",
       "  'method': 'POST',\n",
       "  'headers': {'accept': 'application/json',\n",
       "   'Content-Type': 'application/json'}},\n",
       " 'Generate_User_Story_Cms': {'path': '/user_story/cms',\n",
       "  'method': 'POST',\n",
       "  'headers': {'accept': 'application/json',\n",
       "   'Content-Type': 'application/json'}},\n",
       " 'Generate_User_Story_Sen': {'path': '/user_story/sen',\n",
       "  'method': 'POST',\n",
       "  'headers': {'accept': 'application/json',\n",
       "   'Content-Type': 'application/json'}},\n",
       " 'Create_Jira_Issue_Endpoint': {'path': '/create_jira_issue',\n",
       "  'method': 'POST',\n",
       "  'headers': {'accept': 'application/json',\n",
       "   'Content-Type': 'application/json'}},\n",
       " 'Generate_Test_Cases': {'path': '/generate_test_cases',\n",
       "  'method': 'POST',\n",
       "  'headers': {'accept': 'application/json',\n",
       "   'Content-Type': 'application/json'}},\n",
       " 'Gaps_In_Jira_Ticket': {'path': '/gaps_in_jira_ticket',\n",
       "  'method': 'POST',\n",
       "  'headers': {'accept': 'application/json',\n",
       "   'Content-Type': 'application/json'}}}"
      ]
     },
     "execution_count": 14,
     "metadata": {},
     "output_type": "execute_result"
    }
   ],
   "source": [
    "tool_map"
   ]
  },
  {
   "cell_type": "code",
   "execution_count": 13,
   "id": "9e638aca",
   "metadata": {},
   "outputs": [
    {
     "name": "stderr",
     "output_type": "stream",
     "text": [
      "C:\\Users\\z0052mvs\\AppData\\Local\\Temp\\ipykernel_11804\\449590619.py:1: PydanticDeprecatedSince20: The `json` method is deprecated; use `model_dump_json` instead. Deprecated in Pydantic V2.0 to be removed in V3.0. See Pydantic V2 Migration Guide at https://errors.pydantic.dev/2.11/migration/\n",
      "  tools[0].json()\n"
     ]
    },
    {
     "data": {
      "text/plain": [
       "'{\"name\":\"Add\",\"title\":null,\"description\":null,\"inputSchema\":{\"properties\":{\"a\":{\"type\":\"number\",\"title\":\"A\"},\"b\":{\"type\":\"number\",\"title\":\"B\"}},\"type\":\"object\",\"required\":[\"a\",\"b\"],\"title\":\"Numbers\"},\"outputSchema\":null,\"annotations\":null,\"meta\":null}'"
      ]
     },
     "execution_count": 13,
     "metadata": {},
     "output_type": "execute_result"
    }
   ],
   "source": [
    "tools[0].json()"
   ]
  },
  {
   "cell_type": "code",
   "execution_count": 28,
   "id": "d7999556",
   "metadata": {},
   "outputs": [
    {
     "data": {
      "text/plain": [
       "{'Add': {'path': '/add',\n",
       "  'method': 'POST',\n",
       "  'headers': {'accept': 'application/json',\n",
       "   'Content-Type': 'application/json'}},\n",
       " 'Multiply': {'path': '/multiply',\n",
       "  'method': 'POST',\n",
       "  'headers': {'accept': 'application/json',\n",
       "   'Content-Type': 'application/json'}},\n",
       " 'Forecast': {'path': '/get_forecast',\n",
       "  'method': 'POST',\n",
       "  'headers': {'accept': 'application/json',\n",
       "   'Content-Type': 'application/json'}},\n",
       " 'Alerts': {'path': '/get_alerts',\n",
       "  'method': 'POST',\n",
       "  'headers': {'accept': 'application/json',\n",
       "   'Content-Type': 'application/json'}}}"
      ]
     },
     "execution_count": 28,
     "metadata": {},
     "output_type": "execute_result"
    }
   ],
   "source": [
    "tool_map"
   ]
  },
  {
   "cell_type": "code",
   "execution_count": null,
   "id": "7576ac18",
   "metadata": {},
   "outputs": [],
   "source": []
  },
  {
   "cell_type": "code",
   "execution_count": 27,
   "id": "76292b39",
   "metadata": {},
   "outputs": [
    {
     "data": {
      "text/plain": [
       "[Tool(name='Add', title=None, description=None, inputSchema={'properties': {'a': {'type': 'number', 'title': 'A'}, 'b': {'type': 'number', 'title': 'B'}}, 'type': 'object', 'required': ['a', 'b'], 'title': 'Numbers'}, outputSchema=None, annotations=None, meta=None),\n",
       " Tool(name='Multiply', title=None, description=None, inputSchema={'properties': {'a': {'type': 'number', 'title': 'A'}, 'b': {'type': 'number', 'title': 'B'}}, 'type': 'object', 'required': ['a', 'b'], 'title': 'Numbers'}, outputSchema=None, annotations=None, meta=None),\n",
       " Tool(name='Forecast', title=None, description=None, inputSchema={'type': 'object', 'properties': {'latitude': {'type': 'number', 'title': 'Latitude'}, 'longitude': {'type': 'number', 'title': 'Longitude'}}, 'required': ['latitude', 'longitude']}, outputSchema=None, annotations=None, meta=None),\n",
       " Tool(name='Alerts', title=None, description=None, inputSchema={'properties': {'state': {'type': 'string', 'title': 'State'}}, 'type': 'object', 'required': ['state'], 'title': 'WeatherRequest'}, outputSchema=None, annotations=None, meta=None)]"
      ]
     },
     "execution_count": 27,
     "metadata": {},
     "output_type": "execute_result"
    }
   ],
   "source": [
    "tools"
   ]
  },
  {
   "cell_type": "markdown",
   "id": "0822a316",
   "metadata": {},
   "source": [
    "# Self"
   ]
  },
  {
   "cell_type": "code",
   "execution_count": 8,
   "id": "831e38bd",
   "metadata": {},
   "outputs": [
    {
     "data": {
      "text/plain": [
       "{'path': '/user_story/v1',\n",
       " 'method': 'POST',\n",
       " 'headers': {'accept': 'application/json', 'Content-Type': 'application/json'}}"
      ]
     },
     "execution_count": 8,
     "metadata": {},
     "output_type": "execute_result"
    }
   ],
   "source": [
    "tool_map[name]"
   ]
  },
  {
   "cell_type": "code",
   "execution_count": null,
   "id": "e48219b0",
   "metadata": {},
   "outputs": [
    {
     "name": "stdout",
     "output_type": "stream",
     "text": [
      "ABOUT TO CALL THE TOOL Generate_User_Story\n"
     ]
    }
   ],
   "source": [
    "    print(\"ABOUT TO CALL THE TOOL\", name)\n",
    "    url = f\"http://132.186.158.40:8007/{tool_map[name]['endpoint']}\"\n",
    "    headers = tool_map[name]['headers']\n",
    "\n",
    "    # data = config[\"build_data\"](arguments or {})\n",
    "    data = tool_map[name]['build_data'](arguments or {})\n",
    "\n",
    "    response = requests.post(url, json=data, headers=headers)"
   ]
  },
  {
   "cell_type": "code",
   "execution_count": 18,
   "id": "d294ceaa",
   "metadata": {},
   "outputs": [
    {
     "data": {
      "text/plain": [
       "<Response [422]>"
      ]
     },
     "execution_count": 18,
     "metadata": {},
     "output_type": "execute_result"
    }
   ],
   "source": [
    "response"
   ]
  },
  {
   "cell_type": "code",
   "execution_count": 29,
   "id": "6d7cc037",
   "metadata": {},
   "outputs": [
    {
     "data": {
      "text/plain": [
       "{'openapi': '3.1.0',\n",
       " 'info': {'title': 'FastAPI', 'version': '0.1.0'},\n",
       " 'paths': {'/add': {'post': {'summary': 'Add',\n",
       "    'operationId': 'add_add_post',\n",
       "    'requestBody': {'content': {'application/json': {'schema': {'$ref': '#/components/schemas/Numbers'}}},\n",
       "     'required': True},\n",
       "    'responses': {'200': {'description': 'Successful Response',\n",
       "      'content': {'application/json': {'schema': {}}}},\n",
       "     '422': {'description': 'Validation Error',\n",
       "      'content': {'application/json': {'schema': {'$ref': '#/components/schemas/HTTPValidationError'}}}}}}},\n",
       "  '/multiply': {'post': {'summary': 'Multiply',\n",
       "    'operationId': 'multiply_multiply_post',\n",
       "    'requestBody': {'content': {'application/json': {'schema': {'$ref': '#/components/schemas/Numbers'}}},\n",
       "     'required': True},\n",
       "    'responses': {'200': {'description': 'Successful Response',\n",
       "      'content': {'application/json': {'schema': {}}}},\n",
       "     '422': {'description': 'Validation Error',\n",
       "      'content': {'application/json': {'schema': {'$ref': '#/components/schemas/HTTPValidationError'}}}}}}},\n",
       "  '/get_forecast': {'post': {'summary': 'Forecast',\n",
       "    'operationId': 'forecast_get_forecast_post',\n",
       "    'parameters': [{'name': 'latitude',\n",
       "      'in': 'query',\n",
       "      'required': True,\n",
       "      'schema': {'type': 'number', 'title': 'Latitude'}},\n",
       "     {'name': 'longitude',\n",
       "      'in': 'query',\n",
       "      'required': True,\n",
       "      'schema': {'type': 'number', 'title': 'Longitude'}}],\n",
       "    'responses': {'200': {'description': 'Successful Response',\n",
       "      'content': {'application/json': {'schema': {}}}},\n",
       "     '422': {'description': 'Validation Error',\n",
       "      'content': {'application/json': {'schema': {'$ref': '#/components/schemas/HTTPValidationError'}}}}}}},\n",
       "  '/get_alerts': {'post': {'summary': 'Alerts',\n",
       "    'operationId': 'alerts_get_alerts_post',\n",
       "    'requestBody': {'content': {'application/json': {'schema': {'$ref': '#/components/schemas/WeatherRequest'}}},\n",
       "     'required': True},\n",
       "    'responses': {'200': {'description': 'Successful Response',\n",
       "      'content': {'application/json': {'schema': {}}}},\n",
       "     '422': {'description': 'Validation Error',\n",
       "      'content': {'application/json': {'schema': {'$ref': '#/components/schemas/HTTPValidationError'}}}}}}}},\n",
       " 'components': {'schemas': {'HTTPValidationError': {'properties': {'detail': {'items': {'$ref': '#/components/schemas/ValidationError'},\n",
       "      'type': 'array',\n",
       "      'title': 'Detail'}},\n",
       "    'type': 'object',\n",
       "    'title': 'HTTPValidationError'},\n",
       "   'Numbers': {'properties': {'a': {'type': 'number', 'title': 'A'},\n",
       "     'b': {'type': 'number', 'title': 'B'}},\n",
       "    'type': 'object',\n",
       "    'required': ['a', 'b'],\n",
       "    'title': 'Numbers'},\n",
       "   'ValidationError': {'properties': {'loc': {'items': {'anyOf': [{'type': 'string'},\n",
       "        {'type': 'integer'}]},\n",
       "      'type': 'array',\n",
       "      'title': 'Location'},\n",
       "     'msg': {'type': 'string', 'title': 'Message'},\n",
       "     'type': {'type': 'string', 'title': 'Error Type'}},\n",
       "    'type': 'object',\n",
       "    'required': ['loc', 'msg', 'type'],\n",
       "    'title': 'ValidationError'},\n",
       "   'WeatherRequest': {'properties': {'state': {'type': 'string',\n",
       "      'title': 'State'}},\n",
       "    'type': 'object',\n",
       "    'required': ['state'],\n",
       "    'title': 'WeatherRequest'}}}}"
      ]
     },
     "execution_count": 29,
     "metadata": {},
     "output_type": "execute_result"
    }
   ],
   "source": [
    "config"
   ]
  },
  {
   "cell_type": "code",
   "execution_count": 37,
   "id": "3be0c53a",
   "metadata": {},
   "outputs": [
    {
     "data": {
      "text/plain": [
       "{'post': {'summary': 'Add',\n",
       "  'operationId': 'add_add_post',\n",
       "  'requestBody': {'content': {'application/json': {'schema': {'$ref': '#/components/schemas/Numbers'}}},\n",
       "   'required': True},\n",
       "  'responses': {'200': {'description': 'Successful Response',\n",
       "    'content': {'application/json': {'schema': {}}}},\n",
       "   '422': {'description': 'Validation Error',\n",
       "    'content': {'application/json': {'schema': {'$ref': '#/components/schemas/HTTPValidationError'}}}}}}}"
      ]
     },
     "execution_count": 37,
     "metadata": {},
     "output_type": "execute_result"
    }
   ],
   "source": [
    "config['paths']['/add']"
   ]
  },
  {
   "cell_type": "code",
   "execution_count": 1,
   "id": "b13b6685",
   "metadata": {},
   "outputs": [
    {
     "name": "stdout",
     "output_type": "stream",
     "text": [
      "POST <function parse_openapi_to_tools.<locals>.<lambda> at 0x0000023B800A8F40>\n",
      "POST <function parse_openapi_to_tools.<locals>.<lambda> at 0x0000023B800A8220>\n",
      "POST <function parse_openapi_to_tools.<locals>.<lambda> at 0x0000023B800A8EA0>\n",
      "POST <function parse_openapi_to_tools.<locals>.<lambda> at 0x0000023B800A8C20>\n"
     ]
    }
   ],
   "source": [
    "from parser import parse_openapi_to_tools\n",
    "tools,tool_map=parse_openapi_to_tools(\"http://localhost:8000/openapi.json\")"
   ]
  },
  {
   "cell_type": "code",
   "execution_count": 2,
   "id": "12fa15a1",
   "metadata": {},
   "outputs": [
    {
     "data": {
      "text/plain": [
       "{'Add': {'endpoint': 'add',\n",
       "  'method': 'POST',\n",
       "  'headers': {'accept': 'application/json',\n",
       "   'Content-Type': 'application/json'},\n",
       "  'build_data': <function parser.parse_openapi_to_tools.<locals>.<lambda>(args, props=['a', 'b'])>},\n",
       " 'Multiply': {'endpoint': 'multiply',\n",
       "  'method': 'POST',\n",
       "  'headers': {'accept': 'application/json',\n",
       "   'Content-Type': 'application/json'},\n",
       "  'build_data': <function parser.parse_openapi_to_tools.<locals>.<lambda>(args, props=['a', 'b'])>},\n",
       " 'Forecast': {'endpoint': 'get_forecast',\n",
       "  'method': 'POST',\n",
       "  'headers': {'accept': 'application/json',\n",
       "   'Content-Type': 'application/json'},\n",
       "  'build_data': <function parser.parse_openapi_to_tools.<locals>.<lambda>(args, props=['latitude', 'longitude'])>},\n",
       " 'Alerts': {'endpoint': 'get_alerts',\n",
       "  'method': 'POST',\n",
       "  'headers': {'accept': 'application/json',\n",
       "   'Content-Type': 'application/json'},\n",
       "  'build_data': <function parser.parse_openapi_to_tools.<locals>.<lambda>(args, props=['state'])>}}"
      ]
     },
     "execution_count": 2,
     "metadata": {},
     "output_type": "execute_result"
    }
   ],
   "source": [
    "tool_map"
   ]
  },
  {
   "cell_type": "code",
   "execution_count": 7,
   "id": "60242b39",
   "metadata": {},
   "outputs": [
    {
     "name": "stdout",
     "output_type": "stream",
     "text": [
      "dict_keys(['endpoint', 'method', 'headers', 'build_data'])\n"
     ]
    }
   ],
   "source": [
    "if \"Add\" in tool_map:\n",
    "    print(tool_map['Add'].keys())"
   ]
  },
  {
   "cell_type": "code",
   "execution_count": 11,
   "id": "38722c9b",
   "metadata": {},
   "outputs": [
    {
     "data": {
      "text/plain": [
       "dict_keys(['Add', 'Multiply', 'Forecast', 'Alerts'])"
      ]
     },
     "execution_count": 11,
     "metadata": {},
     "output_type": "execute_result"
    }
   ],
   "source": [
    "tool_map.keys()"
   ]
  },
  {
   "cell_type": "code",
   "execution_count": 10,
   "id": "4eaa058f",
   "metadata": {},
   "outputs": [
    {
     "data": {
      "text/plain": [
       "[Tool(name='Add', title=None, description=None, inputSchema={'properties': {'a': {'type': 'number', 'title': 'A'}, 'b': {'type': 'number', 'title': 'B'}}, 'type': 'object', 'required': ['a', 'b'], 'title': 'Numbers'}, outputSchema=None, annotations=None, meta=None),\n",
       " Tool(name='Multiply', title=None, description=None, inputSchema={'properties': {'a': {'type': 'number', 'title': 'A'}, 'b': {'type': 'number', 'title': 'B'}}, 'type': 'object', 'required': ['a', 'b'], 'title': 'Numbers'}, outputSchema=None, annotations=None, meta=None),\n",
       " Tool(name='Forecast', title=None, description=None, inputSchema={'type': 'object', 'properties': {'latitude': {'type': 'number', 'title': 'Latitude'}, 'longitude': {'type': 'number', 'title': 'Longitude'}}, 'required': ['latitude', 'longitude']}, outputSchema=None, annotations=None, meta=None),\n",
       " Tool(name='Alerts', title=None, description=None, inputSchema={'properties': {'state': {'type': 'string', 'title': 'State'}}, 'type': 'object', 'required': ['state'], 'title': 'WeatherRequest'}, outputSchema=None, annotations=None, meta=None)]"
      ]
     },
     "execution_count": 10,
     "metadata": {},
     "output_type": "execute_result"
    }
   ],
   "source": [
    "tools"
   ]
  },
  {
   "cell_type": "code",
   "execution_count": null,
   "id": "815c1010",
   "metadata": {},
   "outputs": [],
   "source": []
  },
  {
   "cell_type": "markdown",
   "id": "b8748193",
   "metadata": {},
   "source": [
    "## Parser for OAS-2.0"
   ]
  },
  {
   "cell_type": "code",
   "execution_count": 27,
   "id": "c5c81397",
   "metadata": {},
   "outputs": [],
   "source": [
    "swg2={\"swagger\":\"2.0\",\"info\":{\"title\":\"FastAPI\",\"version\":\"0.1.0\"},\"paths\":{\"/\":{\"get\":{\"summary\":\"Read Root\",\"operationId\":\"read_root__get\",\"produces\":[\"application/json\"],\"parameters\":[],\"responses\":{\"200\":{\"description\":\"Successful Response\",\"schema\":{}}}}}}}"
   ]
  },
  {
   "cell_type": "code",
   "execution_count": 8,
   "id": "7d0e89d9",
   "metadata": {},
   "outputs": [],
   "source": [
    "import requests\n",
    "from mcp.types import Tool\n",
    "swg2=requests.get(\"http://localhost:8999/swagger2.json\").json()"
   ]
  },
  {
   "cell_type": "code",
   "execution_count": 15,
   "id": "65fbadbd",
   "metadata": {},
   "outputs": [],
   "source": [
    "def resolve_ref_2(ref: str, spec: dict):\n",
    "    \"\"\"Resolve a $ref like '#/definitions/WeatherRequest'.\"\"\"\n",
    "    parts = ref.lstrip(\"#/\").split(\"/\")\n",
    "    obj = spec\n",
    "    for part in parts:\n",
    "        obj = obj[part]\n",
    "    return deepcopy(obj)\n",
    "\n",
    "\n",
    "def expand_schema_2(schema: dict, spec: dict):\n",
    "    \"\"\"Recursively expand schema by resolving $ref for Swagger 2.0.\"\"\"\n",
    "    if not isinstance(schema, dict):\n",
    "        return schema\n",
    "\n",
    "    if \"$ref\" in schema:\n",
    "        schema = resolve_ref_2(schema[\"$ref\"], spec)\n",
    "\n",
    "    if \"properties\" in schema:\n",
    "        for k, v in schema[\"properties\"].items():\n",
    "            schema[\"properties\"][k] = expand_schema_2(v, spec)\n",
    "\n",
    "    if \"items\" in schema:\n",
    "        schema[\"items\"] = expand_schema_2(schema[\"items\"], spec)\n",
    "\n",
    "    return schema\n",
    "\n",
    "\n",
    "def parse_openapi_2_to_tools():\n",
    "    # response = requests.get(url)\n",
    "    # response.raise_for_status()\n",
    "    swagger_json = swg2\n",
    "    tools = []\n",
    "    tool_map = {}\n",
    "\n",
    "    for path, methods in swagger_json.get(\"paths\", {}).items():\n",
    "        for method, details in methods.items():\n",
    "            tool_name = details.get(\"summary\", path).replace(\" \", \"_\")\n",
    "\n",
    "            input_schema = {\"type\": \"object\", \"properties\": {}, \"required\": []}\n",
    "\n",
    "            # Parameters might include body parameters\n",
    "            for param in details.get(\"parameters\", []):\n",
    "                if param.get(\"in\") == \"body\":\n",
    "                    # Body schema inside `schema` key in param\n",
    "                    schema = expand_schema_2(param.get(\"schema\", {}), swagger_json)\n",
    "                    input_schema = schema  # override with body schema\n",
    "                else:\n",
    "                    # query/path/header parameters\n",
    "                    schema = param.get(\"type\", \"string\")\n",
    "                    schema_obj = {\"type\": schema}\n",
    "                    input_schema[\"properties\"][param[\"name\"]] = schema_obj\n",
    "                    if param.get(\"required\", False):\n",
    "                        input_schema.setdefault(\"required\", []).append(param[\"name\"])\n",
    "\n",
    "            tool = Tool(\n",
    "                name=tool_name,\n",
    "                inputSchema=input_schema\n",
    "            )\n",
    "            tools.append(tool)\n",
    "\n",
    "            property_names = list(input_schema.get(\"properties\", {}).keys())\n",
    "            build_data = lambda args, props=property_names: {k: args.get(k) for k in props}\n",
    "\n",
    "            tool_map[tool_name] = {\n",
    "                \"endpoint\": path.lstrip(\"/\"),\n",
    "                \"method\": method.upper(),\n",
    "                \"headers\": {\n",
    "                    \"accept\": \"application/json\",\n",
    "                    \"Content-Type\": \"application/json\"\n",
    "                },\n",
    "                \"build_data\": build_data\n",
    "            }\n",
    "\n",
    "    return tools, tool_map\n"
   ]
  },
  {
   "cell_type": "code",
   "execution_count": 16,
   "id": "aa375624",
   "metadata": {},
   "outputs": [],
   "source": [
    "tools,tool_map=parse_openapi_2_to_tools()"
   ]
  },
  {
   "cell_type": "code",
   "execution_count": 17,
   "id": "a58ddb2f",
   "metadata": {},
   "outputs": [
    {
     "data": {
      "text/plain": [
       "[Tool(name='Read_Root', title=None, description=None, inputSchema={'type': 'object', 'properties': {}, 'required': []}, outputSchema=None, annotations=None, meta=None),\n",
       " Tool(name='Add', title=None, description=None, inputSchema={'title': 'Numbers', 'required': ['a', 'b'], 'type': 'object', 'properties': {'a': {'title': 'A', 'type': 'number'}, 'b': {'title': 'B', 'type': 'number'}}}, outputSchema=None, annotations=None, meta=None),\n",
       " Tool(name='Multiply', title=None, description=None, inputSchema={'title': 'Numbers', 'required': ['a', 'b'], 'type': 'object', 'properties': {'a': {'title': 'A', 'type': 'number'}, 'b': {'title': 'B', 'type': 'number'}}}, outputSchema=None, annotations=None, meta=None),\n",
       " Tool(name='Forecast', title=None, description=None, inputSchema={'title': 'ForecastRequest', 'required': ['latitude', 'longitude'], 'type': 'object', 'properties': {'latitude': {'title': 'Latitude', 'type': 'number'}, 'longitude': {'title': 'Longitude', 'type': 'number'}}}, outputSchema=None, annotations=None, meta=None)]"
      ]
     },
     "execution_count": 17,
     "metadata": {},
     "output_type": "execute_result"
    }
   ],
   "source": [
    "tools"
   ]
  },
  {
   "cell_type": "code",
   "execution_count": 18,
   "id": "56c93ba6",
   "metadata": {},
   "outputs": [
    {
     "data": {
      "text/plain": [
       "{'Read_Root': {'endpoint': '',\n",
       "  'method': 'GET',\n",
       "  'headers': {'accept': 'application/json',\n",
       "   'Content-Type': 'application/json'},\n",
       "  'build_data': <function __main__.parse_openapi_2_to_tools.<locals>.<lambda>(args, props=[])>},\n",
       " 'Add': {'endpoint': 'add',\n",
       "  'method': 'POST',\n",
       "  'headers': {'accept': 'application/json',\n",
       "   'Content-Type': 'application/json'},\n",
       "  'build_data': <function __main__.parse_openapi_2_to_tools.<locals>.<lambda>(args, props=['a', 'b'])>},\n",
       " 'Multiply': {'endpoint': 'multiply',\n",
       "  'method': 'POST',\n",
       "  'headers': {'accept': 'application/json',\n",
       "   'Content-Type': 'application/json'},\n",
       "  'build_data': <function __main__.parse_openapi_2_to_tools.<locals>.<lambda>(args, props=['a', 'b'])>},\n",
       " 'Forecast': {'endpoint': 'get_forecast',\n",
       "  'method': 'POST',\n",
       "  'headers': {'accept': 'application/json',\n",
       "   'Content-Type': 'application/json'},\n",
       "  'build_data': <function __main__.parse_openapi_2_to_tools.<locals>.<lambda>(args, props=['latitude', 'longitude'])>}}"
      ]
     },
     "execution_count": 18,
     "metadata": {},
     "output_type": "execute_result"
    }
   ],
   "source": [
    "tool_map"
   ]
  },
  {
   "cell_type": "code",
   "execution_count": 19,
   "id": "e2a6d8b0",
   "metadata": {},
   "outputs": [],
   "source": [
    "arguments={\n",
    "  \"a\": 0,\n",
    "  \"b\": 0\n",
    "}"
   ]
  },
  {
   "cell_type": "code",
   "execution_count": 20,
   "id": "314f4ed3",
   "metadata": {},
   "outputs": [
    {
     "data": {
      "text/plain": [
       "{'endpoint': 'multiply',\n",
       " 'method': 'POST',\n",
       " 'headers': {'accept': 'application/json', 'Content-Type': 'application/json'},\n",
       " 'build_data': <function __main__.parse_openapi_2_to_tools.<locals>.<lambda>(args, props=['a', 'b'])>}"
      ]
     },
     "execution_count": 20,
     "metadata": {},
     "output_type": "execute_result"
    }
   ],
   "source": [
    "tool_map[name]"
   ]
  },
  {
   "cell_type": "code",
   "execution_count": 23,
   "id": "2b0df31b",
   "metadata": {},
   "outputs": [
    {
     "data": {
      "text/plain": [
       "{'accept': 'application/json', 'Content-Type': 'application/json'}"
      ]
     },
     "execution_count": 23,
     "metadata": {},
     "output_type": "execute_result"
    }
   ],
   "source": [
    "tool_map[name]['headers']"
   ]
  },
  {
   "cell_type": "code",
   "execution_count": 27,
   "id": "ff69bb7f",
   "metadata": {},
   "outputs": [],
   "source": [
    "da={\n",
    "    \"a\":40,\n",
    "    \"b\":50\n",
    "}"
   ]
  },
  {
   "cell_type": "code",
   "execution_count": 30,
   "id": "4fff7cd5",
   "metadata": {},
   "outputs": [
    {
     "name": "stdout",
     "output_type": "stream",
     "text": [
      "ABOUT TO CALL THE TOOL Multiply\n"
     ]
    }
   ],
   "source": [
    "\n",
    "name=\"Multiply\"\n",
    "print(\"ABOUT TO CALL THE TOOL\", name)\n",
    "url = \"http://localhost:8999/multiply\"\n",
    "headers = tool_map[name]['headers']\n",
    "\n",
    "# data = config[\"build_data\"](arguments or {})\n",
    "data = tool_map[name]['build_data'](da or {})\n",
    "# data={\n",
    "#   \"a\": 0,\n",
    "#   \"b\": 0\n",
    "# }\n",
    "response = requests.post(url, json=data, headers=headers)"
   ]
  },
  {
   "cell_type": "code",
   "execution_count": 31,
   "id": "6633f49f",
   "metadata": {},
   "outputs": [
    {
     "data": {
      "text/plain": [
       "{'result': 2000.0}"
      ]
     },
     "execution_count": 31,
     "metadata": {},
     "output_type": "execute_result"
    }
   ],
   "source": [
    "response.json()"
   ]
  }
 ],
 "metadata": {
  "kernelspec": {
   "display_name": ".venv",
   "language": "python",
   "name": "python3"
  },
  "language_info": {
   "codemirror_mode": {
    "name": "ipython",
    "version": 3
   },
   "file_extension": ".py",
   "mimetype": "text/x-python",
   "name": "python",
   "nbconvert_exporter": "python",
   "pygments_lexer": "ipython3",
   "version": "3.13.2"
  }
 },
 "nbformat": 4,
 "nbformat_minor": 5
}
